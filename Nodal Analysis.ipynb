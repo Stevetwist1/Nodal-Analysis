{
 "cells": [
  {
   "cell_type": "code",
   "execution_count": 1,
   "metadata": {},
   "outputs": [],
   "source": [
    "import numpy as np\n",
    "import pandas as pd\n",
    "import matplotlib.pyplot as plt\n",
    "%matplotlib inline"
   ]
  },
  {
   "cell_type": "code",
   "execution_count": 2,
   "metadata": {},
   "outputs": [
    {
     "data": {
      "text/html": [
       "<div>\n",
       "<style scoped>\n",
       "    .dataframe tbody tr th:only-of-type {\n",
       "        vertical-align: middle;\n",
       "    }\n",
       "\n",
       "    .dataframe tbody tr th {\n",
       "        vertical-align: top;\n",
       "    }\n",
       "\n",
       "    .dataframe thead th {\n",
       "        text-align: right;\n",
       "    }\n",
       "</style>\n",
       "<table border=\"1\" class=\"dataframe\">\n",
       "  <thead>\n",
       "    <tr style=\"text-align: right;\">\n",
       "      <th></th>\n",
       "      <th>Pwf</th>\n",
       "      <th>Q</th>\n",
       "    </tr>\n",
       "  </thead>\n",
       "  <tbody>\n",
       "    <tr>\n",
       "      <th>0</th>\n",
       "      <td>4000.0</td>\n",
       "      <td>0</td>\n",
       "    </tr>\n",
       "    <tr>\n",
       "      <th>1</th>\n",
       "      <td>3500.0</td>\n",
       "      <td>1999</td>\n",
       "    </tr>\n",
       "    <tr>\n",
       "      <th>2</th>\n",
       "      <td>3000.0</td>\n",
       "      <td>3094</td>\n",
       "    </tr>\n",
       "    <tr>\n",
       "      <th>3</th>\n",
       "      <td>2500.0</td>\n",
       "      <td>3902</td>\n",
       "    </tr>\n",
       "    <tr>\n",
       "      <th>4</th>\n",
       "      <td>2000.0</td>\n",
       "      <td>4512</td>\n",
       "    </tr>\n",
       "    <tr>\n",
       "      <th>5</th>\n",
       "      <td>1500.0</td>\n",
       "      <td>4963</td>\n",
       "    </tr>\n",
       "    <tr>\n",
       "      <th>6</th>\n",
       "      <td>1000.0</td>\n",
       "      <td>5275</td>\n",
       "    </tr>\n",
       "    <tr>\n",
       "      <th>7</th>\n",
       "      <td>500.0</td>\n",
       "      <td>5458</td>\n",
       "    </tr>\n",
       "    <tr>\n",
       "      <th>8</th>\n",
       "      <td>14.7</td>\n",
       "      <td>5519</td>\n",
       "    </tr>\n",
       "  </tbody>\n",
       "</table>\n",
       "</div>"
      ],
      "text/plain": [
       "      Pwf     Q\n",
       "0  4000.0     0\n",
       "1  3500.0  1999\n",
       "2  3000.0  3094\n",
       "3  2500.0  3902\n",
       "4  2000.0  4512\n",
       "5  1500.0  4963\n",
       "6  1000.0  5275\n",
       "7   500.0  5458\n",
       "8    14.7  5519"
      ]
     },
     "execution_count": 2,
     "metadata": {},
     "output_type": "execute_result"
    }
   ],
   "source": [
    "#First Let's Get the IPR dataset. (Source : PetroWiki)\n",
    "\n",
    "ipr = pd.DataFrame({'Pwf':[4000,3500,3000,2500,2000,1500,1000,500,14.7],\n",
    "                    'Q': [0,1999,3094,3902,4512,4963,5275,5458,5519]})\n",
    "\n",
    "ipr"
   ]
  },
  {
   "cell_type": "code",
   "execution_count": 3,
   "metadata": {},
   "outputs": [],
   "source": [
    "#Now TPR Data\n",
    "\n",
    "q = np.arange(1000,6500,500)\n",
    "\n",
    "p_190 = [1334,1400,1487,1592,1712,1843,1984,2132,2287,2446,2609]\n",
    "\n",
    "p_2375 = [1298,1320,1351,1390,1435,1487,1545,1609,1677,1749,1824]\n",
    "\n",
    "p_2875 = [1286,1294,1305,1319,1336,1356,1378,1403,1431,1461,1493]\n",
    "\n",
    "tpr = pd.DataFrame({'q':q, 'Pwf(1.90\" tbg)':p_190, 'Pwf(2.375\"tbg)': p_2375,'Pwf(2.875\"tbg)':p_2875})"
   ]
  },
  {
   "cell_type": "code",
   "execution_count": 4,
   "metadata": {},
   "outputs": [
    {
     "data": {
      "text/plain": [
       "<matplotlib.legend.Legend at 0x1164f24c0>"
      ]
     },
     "execution_count": 4,
     "metadata": {},
     "output_type": "execute_result"
    },
    {
     "data": {
      "image/png": "[encoded data removed]",
      "text/plain": [
       "<Figure size 576x288 with 1 Axes>"
      ]
     },
     "metadata": {
      "needs_background": "light"
     },
     "output_type": "display_data"
    }
   ],
   "source": [
    "#Let's Plot them now. \n",
    "plt.figure(figsize=(8,4))\n",
    "\n",
    "plt.style.use('default')\n",
    "\n",
    "plt.plot(ipr['Q'], ipr['Pwf'], label = 'IPR', linewidth=1.5)\n",
    "\n",
    "plt.plot(tpr['q'],tpr['Pwf(1.90\" tbg)'],label='TPR for 1.9\" tubing', linewidth=1.5)\n",
    "plt.plot(tpr['q'],tpr['Pwf(2.375\"tbg)'],label='TPR for 2.375\" tubing', linewidth=1.5)\n",
    "plt.plot(tpr['q'],tpr['Pwf(2.875\"tbg)'],label='TPR for 2.875\" tubing', linewidth=1.5)\n",
    "\n",
    "plt.xlabel('FlowRate(Mscf/D)')\n",
    "plt.ylabel('Flowing BHP(Psia)')\n",
    "plt.title('Nodal Analysis for a Gas Well')\n",
    "\n",
    "plt.grid()\n",
    "\n",
    "plt.legend(loc='best')\n"
   ]
  },
  {
   "cell_type": "code",
   "execution_count": null,
   "metadata": {},
   "outputs": [],
   "source": []
  },
  {
   "cell_type": "code",
   "execution_count": null,
   "metadata": {},
   "outputs": [],
   "source": []
  }
 ],
 "metadata": {
  "kernelspec": {
   "display_name": "Python 3",
   "language": "python",
   "name": "python3"
  },
  "language_info": {
   "codemirror_mode": {
    "name": "ipython",
    "version": 3
   },
   "file_extension": ".py",
   "mimetype": "text/x-python",
   "name": "python",
   "nbconvert_exporter": "python",
   "pygments_lexer": "ipython3",
   "version": "3.8.3"
  }
 },
 "nbformat": 4,
 "nbformat_minor": 4
}
